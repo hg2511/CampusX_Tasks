{
 "cells": [
  {
   "cell_type": "markdown",
   "id": "adb096ba",
   "metadata": {},
   "source": [
    "### Q-1: Rectangle Class\n",
    "- Write a Rectangle class in Python language, allowing you to build a rectangle with length and width attributes.\n",
    "\n",
    "- Create a Perimeter() method to calculate the perimeter of the rectangle and a Area() method to calculate the area of ​​the rectangle.\n",
    "\n",
    "- Create a method display() that display the length, width, perimeter and area of an object created using an instantiation on rectangle class."
   ]
  },
  {
   "cell_type": "code",
   "execution_count": 23,
   "id": "e44427d4",
   "metadata": {},
   "outputs": [],
   "source": [
    "# Rectangle class\n",
    "class Rectangle:\n",
    "    \n",
    "    #constructor initialisation\n",
    "    def __init__(self, x, y):\n",
    "        self.__len = x\n",
    "        self.__wid = y\n",
    "        \n",
    "\n",
    "    def __perimeter(self):\n",
    "        return 2*(self.__len + self.__wid)\n",
    "#         return perim\n",
    "\n",
    "    \n",
    "    def __area(self):\n",
    "        return (self.__len*self.__wid)\n",
    "        return area\n",
    "    \n",
    "    def display(self):\n",
    "        print(\"the length of the rectangle is : \", self.__len)\n",
    "        print(\"the width of the rectangle is : \", self.__wid)        \n",
    "        print(\"the perimeter of the rectangle is : \", self.__perimeter())        \n",
    "        print(\"the area of the rectangle is : \", self.__area())        \n"
   ]
  },
  {
   "cell_type": "code",
   "execution_count": 24,
   "id": "a45e468c",
   "metadata": {},
   "outputs": [
    {
     "name": "stdout",
     "output_type": "stream",
     "text": [
      "enter the value of length : 5\n",
      "enter the value of width : 6\n"
     ]
    }
   ],
   "source": [
    "rect1 = Rectangle(x = float(input(\"enter the value of length : \")),\n",
    "                  y = float(input(\"enter the value of width : \")))"
   ]
  },
  {
   "cell_type": "code",
   "execution_count": 25,
   "id": "6099c439",
   "metadata": {},
   "outputs": [
    {
     "name": "stdout",
     "output_type": "stream",
     "text": [
      "the length of the rectangle is :  5.0\n",
      "the width of the rectangle is :  6.0\n",
      "the perimeter of the rectangle is :  22.0\n",
      "the area of the rectangle is :  30.0\n"
     ]
    }
   ],
   "source": [
    "rect1.display()"
   ]
  },
  {
   "cell_type": "markdown",
   "id": "e2af9a1b",
   "metadata": {},
   "source": [
    "### Q-2: Bank Class\n",
    "- Create a Python class called BankAccount which represents a bank account, having as attributes: accountNumber (numeric type), name (name of the account owner as string type), balance.\n",
    "- Create a constructor with parameters: accountNumber, name, balance.\n",
    "- Create a Deposit() method which manages the deposit actions.\n",
    "- Create a Withdrawal() method which manages withdrawals actions.\n",
    "- Create an bankFees() method to apply the bank fees with a percentage of 5% of the balance account.\n",
    "- Create a display() method to display account details. Give the complete code for the BankAccount class.\n",
    "- Eg. After making above classes and methods, on executing below code:-\n",
    "\n",
    "- newAccount = BankAccount(2178514584, \"Mandy\" , 2800)\n",
    "\n",
    "- newAccount.Withdrawal(700)\n",
    "\n",
    "- newAccount.Deposit(1000)\n",
    "\n",
    "- newAccount.display()\n",
    "- Output:\n",
    "\n",
    "- Account Number :  2178514584\n",
    "- Account Name :  Mandy\n",
    "- Account Balance :  3100 ₹"
   ]
  },
  {
   "cell_type": "code",
   "execution_count": 33,
   "id": "6b415d8f",
   "metadata": {},
   "outputs": [],
   "source": [
    "class BankAccount:\n",
    "    \n",
    "    def __init__(self, accountNumber, name, balance):\n",
    "        # attributes\n",
    "        self.__accountNumber = accountNumber\n",
    "        self.__name = name\n",
    "        self.__balance = balance\n",
    "    \n",
    "    \n",
    "    def deposit(self, amount):    \n",
    "        self.__balance = self.__balance + amount\n",
    "#         print(\"your current balance is {}\".format(self.balance))\n",
    "    \n",
    "    def withdrawl(self, amount):\n",
    "        if self.__balance < amount:\n",
    "            print(\" you do not have much balance\")\n",
    "        else:\n",
    "            self.__balance = self.__balance - amount\n",
    "            deduction = self.__bankFees()\n",
    "            self.__balance = self.__balance - deduction\n",
    "#         print(\"your withdrawl amount is {}\".format(amount))\n",
    "        \n",
    "    def __bankFees(self):\n",
    "        return 0.05*self.__balance\n",
    "#         deducted_amount = self.balance*bankFeees\n",
    "#         self.balance = self.balance - deducted_amount\n",
    "#         print(\"your deducted amount is {}\".format(deducted_amount))\n",
    "        \n",
    "    def display(self):\n",
    "        print(\"Here are the details of your acount.\")\n",
    "        print(\"your account number is {}\".format(self.__accountNumber))\n",
    "        print(\"Account holder name is {}\".format(self.__name))\n",
    "        print(\"your account balance is {}\".format(self.__balance))"
   ]
  },
  {
   "cell_type": "code",
   "execution_count": 36,
   "id": "69febdc3",
   "metadata": {},
   "outputs": [
    {
     "name": "stdout",
     "output_type": "stream",
     "text": [
      "enter your account number : 3216546\n",
      "enter your name : kljh\n",
      "enter the balance : 20000\n"
     ]
    }
   ],
   "source": [
    "ac1 = BankAccount(accountNumber=int(input(\"enter your account number : \")), \n",
    "                  name=input(\"enter your name : \"), \n",
    "                  balance=int(input(\"enter the balance : \")))"
   ]
  },
  {
   "cell_type": "code",
   "execution_count": 37,
   "id": "ec9c6e38",
   "metadata": {},
   "outputs": [],
   "source": [
    "ac1.deposit(5000)"
   ]
  },
  {
   "cell_type": "code",
   "execution_count": 38,
   "id": "06f78217",
   "metadata": {},
   "outputs": [],
   "source": [
    "ac1.withdrawl(500)"
   ]
  },
  {
   "cell_type": "code",
   "execution_count": null,
   "id": "ab271299",
   "metadata": {},
   "outputs": [],
   "source": []
  },
  {
   "cell_type": "code",
   "execution_count": 39,
   "id": "81651c46",
   "metadata": {},
   "outputs": [
    {
     "name": "stdout",
     "output_type": "stream",
     "text": [
      "Here are the details of your acount.\n",
      "your account number is 3216546\n",
      "Account holder name is kljh\n",
      "your account balance is 23275.0\n"
     ]
    }
   ],
   "source": [
    "ac1.display()"
   ]
  },
  {
   "cell_type": "markdown",
   "id": "f1042ff8",
   "metadata": {},
   "source": [
    "### Q-3:Computation class\n",
    "Create a Computation class with a default constructor (without parameters) allowing to perform various calculations on integers numbers.\n",
    "\n",
    "Create a method called Factorial() which allows to calculate the factorial of an integer n. Integer n as parameter for this method\n",
    "\n",
    "Create a method called naturalSum() allowing to calculate the sum of the first n integers 1 + 2 + 3 + .. + n. Integer n as parameter for this method.\n",
    "\n",
    "Create a method called testPrime() in the Calculation class to test the primality of a given integer n, n is Prime or Not? Integer n as parameter for this method.\n",
    "\n",
    "Create a method called testPrims() allowing to test if two numbers are prime between them. Two integers are prime to one another if they have only 1 as their common divisor. Eg. 4 and 9 are prime to each other.\n",
    "\n",
    "Create a tableMult() method which creates and displays the multiplication table of a given integer. Then create an allTablesMult() method to display all the integer multiplication tables 1, 2, 3, ..., 9.\n",
    "\n",
    "Create a static listDiv() method that gets all the divisors of a given integer on new list called Ldiv. Create another listDivPrim() method that gets all the prime divisors of a given integer."
   ]
  },
  {
   "cell_type": "code",
   "execution_count": null,
   "id": "ffc8a3f3",
   "metadata": {},
   "outputs": [],
   "source": [
    "class Computation:\n",
    "    # building constructor\n",
    "    def __init__():\n",
    "        pass\n",
    "    \n",
    "    \n",
    "    # factorial\n",
    "    def factorial(self, n):\n",
    "        for i in range(1,n):\n",
    "            n = n*i\n",
    "        return n\n",
    "    \n",
    "    \n",
    "    # sum of n natural numbers\n",
    "    def naturalSum(self, n):\n",
    "#         n = int(input(\"num : \"))\n",
    "        sum = n * (n+1)/2\n",
    "        return sum\n",
    "    \n",
    "    \n",
    "    # prime number test\n",
    "    def testPrime(self,n):\n",
    "        j = 0\n",
    "        for i in range(n):\n",
    "            if (n%i == 0):\n",
    "                j = j + 1\n",
    "        if (j == 2):\n",
    "            return True\n",
    "        else:\n",
    "            return False\n",
    "        \n",
    "    def testPrims(self):\n",
    "        \n",
    "    def tableMulti(self):\n",
    "        pass\n",
    "    def allTables(self):\n",
    "        pass\n",
    "    def listDiv(self):\n",
    "        pass"
   ]
  }
 ],
 "metadata": {
  "kernelspec": {
   "display_name": "Python 3 (ipykernel)",
   "language": "python",
   "name": "python3"
  },
  "language_info": {
   "codemirror_mode": {
    "name": "ipython",
    "version": 3
   },
   "file_extension": ".py",
   "mimetype": "text/x-python",
   "name": "python",
   "nbconvert_exporter": "python",
   "pygments_lexer": "ipython3",
   "version": "3.9.12"
  }
 },
 "nbformat": 4,
 "nbformat_minor": 5
}
