{
 "cells": [
  {
   "cell_type": "markdown",
   "id": "54fc74e7",
   "metadata": {},
   "source": [
    "# Task_ Session_2 – operators/if-else/loops"
   ]
  },
  {
   "cell_type": "code",
   "execution_count": 1,
   "id": "7271837a",
   "metadata": {},
   "outputs": [],
   "source": [
    "# Problem 1: Write a program that will give you in hand monthly salary after deduction on CTC - HRA(10%), DA(5%), PF(3%) and taxes deduction as below:\n",
    "# Salary(Lakhs) : Tax(%)\n",
    "# •\tBelow 5 : 0%\n",
    "# •\t5-10 : 10%\n",
    "# •\t10-20 : 20%\n",
    "# •\taboove 20 : 30%\n"
   ]
  },
  {
   "cell_type": "code",
   "execution_count": 6,
   "id": "243f5ae1",
   "metadata": {},
   "outputs": [
    {
     "name": "stdout",
     "output_type": "stream",
     "text": [
      "Enter your annual ctc : 220000\n",
      "your inhand salary per month will be  15033.33\n"
     ]
    }
   ],
   "source": [
    "ctc = int(input(\"Enter your annual ctc : \"))\n",
    "\n",
    "if ctc < 500000:\n",
    "    salary = ctc*.82\n",
    "elif ctc < 1000000:\n",
    "    salary = ctc*.72\n",
    "elif ctc < 2000000:\n",
    "    salary = ctc*.62\n",
    "else:\n",
    "    salary = ctc*.52\n",
    "    \n",
    "print(\"your inhand salary per month will be \", round(salary/12,2))"
   ]
  },
  {
   "cell_type": "code",
   "execution_count": 2,
   "id": "c75241b6",
   "metadata": {},
   "outputs": [],
   "source": [
    "# Problem 2: Write a program that take a user input of three angles and will find out whether it can form a triangle or not."
   ]
  },
  {
   "cell_type": "code",
   "execution_count": 9,
   "id": "fa2580cf",
   "metadata": {},
   "outputs": [
    {
     "name": "stdout",
     "output_type": "stream",
     "text": [
      "enter the first angle : 1\n",
      "enter the first angle : 2\n",
      "enter the first angle : 3\n",
      "not a triangle.\n"
     ]
    }
   ],
   "source": [
    "angle_1 = int(input(\"enter the first angle : \"))\n",
    "angle_2 = int(input(\"enter the first angle : \"))\n",
    "angle_3 = int(input(\"enter the first angle : \"))\n",
    "\n",
    "if (angle_1+angle_2+angle_3) == 180 and angle_1>0 and angle_2>0 and angle_3>0:\n",
    "    print(\"the angles form a triangle.\")\n",
    "else:\n",
    "    print(\"not a triangle.\")"
   ]
  },
  {
   "cell_type": "code",
   "execution_count": 3,
   "id": "3a227bdf",
   "metadata": {},
   "outputs": [],
   "source": [
    "# Problem 3: Write a program that will take user input of cost price and selling price and determines whether its a loss or a profit."
   ]
  },
  {
   "cell_type": "code",
   "execution_count": 13,
   "id": "dd0bdd42",
   "metadata": {},
   "outputs": [
    {
     "name": "stdout",
     "output_type": "stream",
     "text": [
      " enter cost price : 30\n",
      "enter selling price : 30\n",
      "no profit no gain.\n"
     ]
    }
   ],
   "source": [
    "cp = int(input(\" enter cost price : \"))\n",
    "sp = int(input('enter selling price : '))\n",
    "\n",
    "if cp < sp :\n",
    "    print(\"user gets profit.\")\n",
    "elif cp > sp:\n",
    "    print('loss will happen.')\n",
    "else:\n",
    "    print('no profit no gain.')"
   ]
  },
  {
   "cell_type": "code",
   "execution_count": 14,
   "id": "411658f5",
   "metadata": {},
   "outputs": [],
   "source": [
    "# Problem 4: Write a menu-driven program -\n",
    "# 1.\tcm to ft\n",
    "# 2.\tkm to miles\n",
    "# 3.\tUSD to INR\n",
    "# 4.\texit\n",
    "\n",
    "# hint:\n",
    "#     1cm = 0.032ft\n",
    "#     1km = 0.62miles\n",
    "#     1usd = 80inr"
   ]
  },
  {
   "cell_type": "code",
   "execution_count": 8,
   "id": "b798e97b",
   "metadata": {},
   "outputs": [
    {
     "name": "stdout",
     "output_type": "stream",
     "text": [
      "\n",
      "    Hi select an option \n",
      "    1. cm to ft \n",
      "    2. km to miles\n",
      "    3. usd to inr\n",
      "    4. exit\n",
      "1\n",
      "enter the centimeter value to convert in feet : 172\n",
      "ft value is  5.5040000000000004\n"
     ]
    }
   ],
   "source": [
    "menu = input(\"\"\"\n",
    "    Hi select an option \n",
    "    1. cm to ft \n",
    "    2. km to miles\n",
    "    3. usd to inr\n",
    "    4. exit\n",
    "\"\"\")\n",
    "\n",
    "if menu =='1':\n",
    "        cm = int(input(\"enter the centimeter value to convert in feet : \"))\n",
    "        print('ft value is ', 0.032*cm)\n",
    "elif menu =='2':\n",
    "        km = int(input(\"enter the km value to convert in miles : \"))\n",
    "        print('miles value is ', 0.622*km)\n",
    "elif menu =='3':\n",
    "        usd = int(input(\"enter the usd value to convert in INR : \"))\n",
    "        print('INR value is ', 80*usd)\n",
    "else:\n",
    "    exit()"
   ]
  },
  {
   "cell_type": "code",
   "execution_count": 15,
   "id": "66e8844d",
   "metadata": {},
   "outputs": [],
   "source": [
    "# Problem 5 - Exercise 12: Display Fibonacci series up to 10 terms.\n",
    "# Note: The Fibonacci Sequence is a series of numbers. The next number is found by adding up the two numbers before it. The first two numbers are 0 and 1. For example, 0, 1, 1, 2, 3, 5, 8, 13, 21. The next number in this series above is 13+21 = 34\n"
   ]
  },
  {
   "cell_type": "code",
   "execution_count": 14,
   "id": "ccb44a94",
   "metadata": {},
   "outputs": [
    {
     "name": "stdout",
     "output_type": "stream",
     "text": [
      "enter the number for fibbonacci series : 6\n",
      "0\n",
      "1\n",
      "1\n",
      "2\n",
      "3\n",
      "5\n"
     ]
    }
   ],
   "source": [
    "num1 = 0\n",
    "num2 = 1\n",
    "\n",
    "n = int(input('enter the number for fibbonacci series : '))\n",
    "\n",
    "for i in range(n):\n",
    "    print(num1)\n",
    "    \n",
    "    next_num = num1 + num2\n",
    "    num1 = num2\n",
    "    num2 = next_num"
   ]
  },
  {
   "cell_type": "code",
   "execution_count": null,
   "id": "f7aa7327",
   "metadata": {},
   "outputs": [],
   "source": [
    "# Problem 6 - Find the factorial of a given number.\n",
    "# Write a program to use the loop to find the factorial of a given number.\n",
    "# The factorial (symbol: !) means to multiply all whole numbers from the chosen number down to 1.\n",
    "# For example: calculate the factorial of 5\n",
    "# 5! = 5 × 4 × 3 × 2 × 1 = 120\n",
    "# Output:\n",
    "# 120\n"
   ]
  },
  {
   "cell_type": "code",
   "execution_count": 15,
   "id": "5675a05c",
   "metadata": {},
   "outputs": [
    {
     "name": "stdout",
     "output_type": "stream",
     "text": [
      "enter the number : 5\n",
      "120\n"
     ]
    }
   ],
   "source": [
    "num = int(input('enter the number : '))\n",
    "\n",
    "fact = 1\n",
    "for i in range(1, num+1):\n",
    "    fact = fact*i\n",
    "    \n",
    "print(fact)"
   ]
  },
  {
   "cell_type": "code",
   "execution_count": null,
   "id": "ac866f7d",
   "metadata": {},
   "outputs": [],
   "source": [
    "# Problem 7 - Reverse a given integer number.\n",
    "# Example:\n",
    "# Input:\n",
    "# 76542\n",
    "# Output:\n",
    "# 24567\n"
   ]
  },
  {
   "cell_type": "code",
   "execution_count": 17,
   "id": "bb390834",
   "metadata": {},
   "outputs": [
    {
     "name": "stdout",
     "output_type": "stream",
     "text": [
      "enter a number : 123456789\n",
      "987654321\n"
     ]
    }
   ],
   "source": [
    "number = int(input('enter a number : '))\n",
    "\n",
    "reverse_number = 0\n",
    "\n",
    "while number > 0:\n",
    "    last = number%10\n",
    "    reverse_number = reverse_number*10 + last\n",
    "    number = number//10\n",
    "    \n",
    "print(reverse_number)"
   ]
  },
  {
   "cell_type": "code",
   "execution_count": null,
   "id": "4633836e",
   "metadata": {},
   "outputs": [],
   "source": [
    "# Problem 8: Take a user input as integer N. Find out the sum from 1 to N. If any number if divisible by 5, then skip that number. And if the sum is greater than 300, don't need to calculate the sum further more. Print the final result. And don't use for loop to solve this problem.\n",
    "# Example 1:\n",
    "# Input:\n",
    "# 30\n",
    "# Output:\n",
    "# 276\n"
   ]
  },
  {
   "cell_type": "code",
   "execution_count": 2,
   "id": "34bbfd71",
   "metadata": {},
   "outputs": [
    {
     "name": "stdout",
     "output_type": "stream",
     "text": [
      "enter a number : 25\n",
      "250\n"
     ]
    }
   ],
   "source": [
    "n = int(input(\"enter a number : \"))\n",
    "sum = 0\n",
    "\n",
    "# for i in range(1, n+1):\n",
    "#     if i % 5 == 0:\n",
    "#         continue\n",
    "    \n",
    "#     sum += i\n",
    "    \n",
    "#     if sum > 300:\n",
    "#         sum -= i\n",
    "#         break\n",
    "        \n",
    "# print(sum)\n",
    "\n",
    "i = 1\n",
    "\n",
    "while i < n+1:\n",
    "    if i % 5 == 0:\n",
    "        i += 1\n",
    "        continue\n",
    "        \n",
    "    sum += i\n",
    "    \n",
    "    if sum > 300:\n",
    "        sum = sum - i\n",
    "        break\n",
    "        \n",
    "    i+=1\n",
    "    \n",
    "print(sum)"
   ]
  },
  {
   "cell_type": "code",
   "execution_count": null,
   "id": "993087f5",
   "metadata": {},
   "outputs": [],
   "source": [
    "# Problem 9: Write a program that keeps on accepting a number from the user until the user enters Zero. Display the sum and average of all the numbers."
   ]
  },
  {
   "cell_type": "code",
   "execution_count": 26,
   "id": "714e2c9d",
   "metadata": {},
   "outputs": [
    {
     "name": "stdout",
     "output_type": "stream",
     "text": [
      "enter number : 12\n",
      "enter number : 25\n",
      "enter number : 13\n",
      "enter number : 0\n",
      "sum :  50\n",
      "avg :  16.666666666666668\n"
     ]
    }
   ],
   "source": [
    "total_sum = 0\n",
    "count = 0\n",
    "\n",
    "while True:\n",
    "    num = int(input(\"enter number : \"))\n",
    "    \n",
    "    if num == 0:\n",
    "        break\n",
    "        \n",
    "    total_sum = total_sum + num\n",
    "    count = count + 1\n",
    "    \n",
    "print(\"sum : \", total_sum)\n",
    "print(\"avg : \", total_sum/count)"
   ]
  },
  {
   "cell_type": "code",
   "execution_count": null,
   "id": "24823e2b",
   "metadata": {},
   "outputs": [],
   "source": [
    "# Problem 9: Write a program which will find all such numbers which are divisible by 7 but are not a multiple of 5, between 2000 and 3200 (both included). The numbers obtained should be printed in a comma-separated sequence on a single line."
   ]
  },
  {
   "cell_type": "code",
   "execution_count": 27,
   "id": "850c0556",
   "metadata": {},
   "outputs": [
    {
     "name": "stdout",
     "output_type": "stream",
     "text": [
      "2002,2009,2016,2023,2037,2044,2051,2058,2072,2079,2086,2093,2107,2114,2121,2128,2142,2149,2156,2163,2177,2184,2191,2198,2212,2219,2226,2233,2247,2254,2261,2268,2282,2289,2296,2303,2317,2324,2331,2338,2352,2359,2366,2373,2387,2394,2401,2408,2422,2429,2436,2443,2457,2464,2471,2478,2492,2499,2506,2513,2527,2534,2541,2548,2562,2569,2576,2583,2597,2604,2611,2618,2632,2639,2646,2653,2667,2674,2681,2688,2702,2709,2716,2723,2737,2744,2751,2758,2772,2779,2786,2793,2807,2814,2821,2828,2842,2849,2856,2863,2877,2884,2891,2898,2912,2919,2926,2933,2947,2954,2961,2968,2982,2989,2996,3003,3017,3024,3031,3038,3052,3059,3066,3073,3087,3094,3101,3108,3122,3129,3136,3143,3157,3164,3171,3178,3192,3199\n"
     ]
    }
   ],
   "source": [
    "L = []\n",
    "for i in range(2000,3201):\n",
    "  if i % 7 == 0 and i % 5 != 0:\n",
    "    L.append(str(i))\n",
    "\n",
    "print(\",\".join(L))"
   ]
  },
  {
   "cell_type": "code",
   "execution_count": null,
   "id": "0cc17275",
   "metadata": {},
   "outputs": [],
   "source": [
    "# Problem 10: Write a program, which will find all such numbers between 1000 and 3000 (both included) such that each digit of the number is an even number. The numbers obtained should be printed in a space-separated sequence on a single line."
   ]
  },
  {
   "cell_type": "code",
   "execution_count": 28,
   "id": "7816c16e",
   "metadata": {},
   "outputs": [
    {
     "name": "stdout",
     "output_type": "stream",
     "text": [
      "2000,2002,2004,2006,2008,2020,2022,2024,2026,2028,2040,2042,2044,2046,2048,2060,2062,2064,2066,2068,2080,2082,2084,2086,2088,2200,2202,2204,2206,2208,2220,2222,2224,2226,2228,2240,2242,2244,2246,2248,2260,2262,2264,2266,2268,2280,2282,2284,2286,2288,2400,2402,2404,2406,2408,2420,2422,2424,2426,2428,2440,2442,2444,2446,2448,2460,2462,2464,2466,2468,2480,2482,2484,2486,2488,2600,2602,2604,2606,2608,2620,2622,2624,2626,2628,2640,2642,2644,2646,2648,2660,2662,2664,2666,2668,2680,2682,2684,2686,2688,2800,2802,2804,2806,2808,2820,2822,2824,2826,2828,2840,2842,2844,2846,2848,2860,2862,2864,2866,2868,2880,2882,2884,2886,2888\n"
     ]
    }
   ],
   "source": [
    "L = []\n",
    "for i in range(1000,3001):\n",
    "  flag = True\n",
    "\n",
    "  curr = i\n",
    "\n",
    "  while curr > 0:\n",
    "    last = curr%10\n",
    "    if last % 2 != 0:\n",
    "      flag = False\n",
    "      break\n",
    "    curr = curr//10\n",
    "\n",
    "  if flag == True:\n",
    "    L.append(str(i))\n",
    "\n",
    "print(\",\".join(L))"
   ]
  },
  {
   "cell_type": "code",
   "execution_count": 2,
   "id": "de38634a",
   "metadata": {},
   "outputs": [],
   "source": [
    "# Problem 11: A robot moves in a plane starting from the original point (0,0). The robot can move toward UP, DOWN, LEFT and RIGHT with a given steps.\n",
    "# The trace of robot movement is shown as the following:\n",
    "# UP 5\n",
    "# DOWN 3\n",
    "# LEFT 3\n",
    "# RIGHT 2\n",
    "# !\n",
    "# The numbers after the direction are steps.\n",
    "# ! means robot stop there.\n",
    "# Please write a program to compute the distance from current position after a sequence of movement and original point.\n",
    "# If the distance is a float, then just print the nearest integer.\n",
    "# Example:\n",
    "# Input:\n",
    "# UP 5\n",
    "# DOWN 3\n",
    "# LEFT 3\n",
    "# RIGHT 2\n",
    "# !\n",
    "# Output:\n",
    "# 2\n"
   ]
  },
  {
   "cell_type": "code",
   "execution_count": 33,
   "id": "ca1a10c0",
   "metadata": {},
   "outputs": [
    {
     "name": "stdout",
     "output_type": "stream",
     "text": [
      "Enter the robot path : UP 5\n",
      "Enter the robot path : DOWN 6\n",
      "Enter the robot path : LEFT 4\n",
      "Enter the robot path : RIGHT 2\n",
      "Enter the robot path : !\n",
      "new pos [-2, -1]\n",
      "2.23606797749979\n"
     ]
    }
   ],
   "source": [
    "pos = [0,0]\n",
    "while True:\n",
    "  s = input('Enter the robot path : ')\n",
    "  if s == '!':\n",
    "    break\n",
    "  direction = s.split()[0]\n",
    "  steps = int(s.split()[1])\n",
    "\n",
    "  if direction == 'UP':\n",
    "    pos[1] = pos[1] + steps\n",
    "  elif direction == 'DOWN':\n",
    "    pos[1] = pos[1] - steps\n",
    "  elif direction == 'LEFT':\n",
    "    pos[0] = pos[0] - steps\n",
    "  elif direction == 'RIGHT':\n",
    "    pos[0] = pos[0] + steps\n",
    "  else:\n",
    "    pass\n",
    "\n",
    "print('new pos',pos)\n",
    "print((pos[0]**2 + pos[1]**2)**0.5)"
   ]
  },
  {
   "cell_type": "code",
   "execution_count": null,
   "id": "7540cc27",
   "metadata": {},
   "outputs": [],
   "source": [
    "# Problem 12:Write a program to print whether a given number is a prime number or not"
   ]
  },
  {
   "cell_type": "code",
   "execution_count": 35,
   "id": "c64a7ed4",
   "metadata": {},
   "outputs": [
    {
     "name": "stdout",
     "output_type": "stream",
     "text": [
      "enter the num17\n",
      "Prime\n"
     ]
    }
   ],
   "source": [
    "num = int(input('enter the num : '))\n",
    "\n",
    "flag = True\n",
    "for i in range(2,num):\n",
    "  if num%i == 0:\n",
    "    flag = False\n",
    "    break\n",
    "\n",
    "if flag == True:\n",
    "  print('Prime')\n",
    "else:\n",
    "  print('Not Prime')\n"
   ]
  },
  {
   "cell_type": "code",
   "execution_count": 3,
   "id": "36847e70",
   "metadata": {},
   "outputs": [],
   "source": [
    "# Problem 13:Print all the Armstrong numbers in a given range.\n",
    "# Range will be provided by the user\n",
    "# Armstrong number is a number that is equal to the sum of cubes of its digits. For example 0, 1, 153, 370, 371 and 407 are the Armstrong numbers.\n"
   ]
  },
  {
   "cell_type": "code",
   "execution_count": null,
   "id": "040bde38",
   "metadata": {},
   "outputs": [],
   "source": []
  },
  {
   "cell_type": "code",
   "execution_count": null,
   "id": "2cf573d5",
   "metadata": {},
   "outputs": [],
   "source": [
    "# Problem 14:Calculate the angle between the hour hand and minute hand.\n",
    "# Note: There can be two angles between hands; we need to print a minimum of two. Also, we need to print the floor of the final result angle. For example, if the final angle is 10.61, we need to print 10.\n",
    "# Input:\n",
    "# H = 9 , M = 0\n",
    "# Output:\n",
    "# 90\n",
    "# Explanation:\n",
    "# The minimum angle between hour and minute hand when the time is 9 is 90 degress.\n"
   ]
  },
  {
   "cell_type": "code",
   "execution_count": null,
   "id": "7afc7960",
   "metadata": {},
   "outputs": [],
   "source": []
  },
  {
   "cell_type": "code",
   "execution_count": null,
   "id": "81fce6ff",
   "metadata": {},
   "outputs": [],
   "source": [
    "# Problem 15:Given two rectangles, find if the given two rectangles overlap or not. A rectangle is denoted by providing the x and y coordinates of two points: the left top corner and the right bottom corner of the rectangle. Two rectangles sharing a side are considered overlapping. (L1 and R1 are the extreme points of the first rectangle and L2 and R2 are the extreme points of the second rectangle).\n",
    "# Note: It may be assumed that the rectangles are parallel to the coordinate axis.\n",
    " \n",
    "\n"
   ]
  },
  {
   "cell_type": "code",
   "execution_count": null,
   "id": "17ee0c1b",
   "metadata": {},
   "outputs": [],
   "source": []
  },
  {
   "cell_type": "code",
   "execution_count": null,
   "id": "3e0ad640",
   "metadata": {},
   "outputs": [],
   "source": []
  },
  {
   "cell_type": "code",
   "execution_count": null,
   "id": "0ebbde0b",
   "metadata": {},
   "outputs": [],
   "source": []
  }
 ],
 "metadata": {
  "kernelspec": {
   "display_name": "Python 3 (ipykernel)",
   "language": "python",
   "name": "python3"
  },
  "language_info": {
   "codemirror_mode": {
    "name": "ipython",
    "version": 3
   },
   "file_extension": ".py",
   "mimetype": "text/x-python",
   "name": "python",
   "nbconvert_exporter": "python",
   "pygments_lexer": "ipython3",
   "version": "3.9.12"
  }
 },
 "nbformat": 4,
 "nbformat_minor": 5
}
