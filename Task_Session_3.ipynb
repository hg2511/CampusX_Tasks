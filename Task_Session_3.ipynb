{
 "cells": [
  {
   "cell_type": "markdown",
   "id": "5a5d3d29",
   "metadata": {},
   "source": [
    "# Task_Session_3"
   ]
  },
  {
   "cell_type": "markdown",
   "id": "2f8dc68b",
   "metadata": {},
   "source": [
    "- Problem 1 - Print the following pattern. Write a program to use for loop to print the following reverse number pattern.\n",
    "- 5 4 3 2 1 \n",
    "- 4 3 2 1 \n",
    "- 3 2 1 \n",
    "- 2 1 \n",
    "- 1\n"
   ]
  },
  {
   "cell_type": "code",
   "execution_count": 12,
   "id": "9c2bb7ed",
   "metadata": {},
   "outputs": [
    {
     "name": "stdout",
     "output_type": "stream",
     "text": [
      "enter the number : 6\n",
      "6 5 4 3 2 1 \n",
      "5 4 3 2 1 \n",
      "4 3 2 1 \n",
      "3 2 1 \n",
      "2 1 \n",
      "1 \n"
     ]
    }
   ],
   "source": [
    "rows = int(input(\"enter the number : \"))\n",
    "\n",
    "for i in range(0,rows):\n",
    "    for j in range(rows-i, 0, -1):\n",
    "        print(j, end=\" \")\n",
    "    print()"
   ]
  },
  {
   "cell_type": "code",
   "execution_count": null,
   "id": "be403f04",
   "metadata": {},
   "outputs": [],
   "source": []
  },
  {
   "cell_type": "code",
   "execution_count": 17,
   "id": "3d5a1dfa",
   "metadata": {},
   "outputs": [
    {
     "name": "stdout",
     "output_type": "stream",
     "text": [
      "\n",
      "* \n",
      "* * \n",
      "* * * \n",
      "* * * * \n",
      "* * * * * \n",
      "* * * * * * \n"
     ]
    }
   ],
   "source": [
    "for i in range(7):\n",
    "    for j in range(i,0,-1):\n",
    "        print(\"*\", end=\" \")\n",
    "    print()"
   ]
  },
  {
   "cell_type": "raw",
   "id": "4dfb0eed",
   "metadata": {},
   "source": [
    "Problem 2: Print the following pattern.\n",
    "* \n",
    "* * \n",
    "* * * \n",
    "* * * * \n",
    "* * * * * \n",
    "* * * * \n",
    "* * * \n",
    "* * \n",
    "*\n"
   ]
  },
  {
   "cell_type": "code",
   "execution_count": 29,
   "id": "44070fbc",
   "metadata": {},
   "outputs": [
    {
     "name": "stdout",
     "output_type": "stream",
     "text": [
      "\n",
      "* \n",
      "* * \n",
      "* * * \n",
      "* * * * \n",
      "* * * * * \n",
      "* * * * * * \n",
      "* * * * * * * \n",
      "* * * * * * \n",
      "* * * * * \n",
      "* * * * \n",
      "* * * \n",
      "* * \n",
      "* \n"
     ]
    }
   ],
   "source": [
    "for i in range(7):\n",
    "    for j in range(i,0,-1):\n",
    "        print(\"*\", end=\" \")\n",
    "    print()\n",
    "    \n",
    "    \n",
    "for i in range(0,7):\n",
    "    for j in range(7-i,0, -1):\n",
    "        print(\"*\", end=\" \")\n",
    "    print()"
   ]
  },
  {
   "cell_type": "code",
   "execution_count": 7,
   "id": "8e99b572",
   "metadata": {},
   "outputs": [
    {
     "name": "stdout",
     "output_type": "stream",
     "text": [
      "enter the number : 6\n",
      "1 \n",
      "2 2 \n",
      "3 3 3 \n",
      "4 4 4 4 \n",
      "5 5 5 5 5 \n",
      "6 6 6 6 6 6 \n",
      "6 5 4 3 2 \n",
      "5 4 3 2 \n",
      "4 3 2 \n",
      "3 2 \n",
      "2 \n",
      "\n",
      "\n"
     ]
    }
   ],
   "source": [
    "row = int(input(\"enter the number : \"))\n",
    "\n",
    "for i in range(1, row+1):\n",
    "    for j in range(0,i):\n",
    "        \n",
    "        print(i, end=\" \")\n",
    "    print()\n",
    "    \n",
    "for i in range(0,row+1):\n",
    "    for j in range(row-i,1,-1):\n",
    "        \n",
    "        print(j, end=\" \")\n",
    "    print()"
   ]
  },
  {
   "cell_type": "raw",
   "id": "894de990",
   "metadata": {},
   "source": [
    "Problem 3:Write a program to pring the following pattern\n",
    "    *\n",
    "  * * *\n",
    "* * * * *\n"
   ]
  },
  {
   "cell_type": "code",
   "execution_count": 36,
   "id": "a9d6bc7a",
   "metadata": {},
   "outputs": [
    {
     "name": "stdout",
     "output_type": "stream",
     "text": [
      "      * \n",
      "     * * \n",
      "    * * * \n",
      "   * * * * \n",
      "  * * * * * \n",
      " * * * * * * \n"
     ]
    }
   ],
   "source": [
    "rows = 6\n",
    "for i in range(1,rows+1):\n",
    "    print(' '*rows,end='')\n",
    "    print('* '*i)\n",
    "    rows = rows - 1"
   ]
  },
  {
   "cell_type": "raw",
   "id": "ca70e8b3",
   "metadata": {},
   "source": [
    "Problem 4:Write a program to print the following pattern\n",
    "1\n",
    "2 1\n",
    "3 2 1\n",
    "4 3 2 1\n",
    "5 4 3 2 1\n"
   ]
  },
  {
   "cell_type": "code",
   "execution_count": 38,
   "id": "eecd03c8",
   "metadata": {},
   "outputs": [
    {
     "name": "stdout",
     "output_type": "stream",
     "text": [
      "Enter the number : 5\n",
      "1 \n",
      "2 1 \n",
      "3 2 1 \n",
      "4 3 2 1 \n",
      "5 4 3 2 1 \n"
     ]
    }
   ],
   "source": [
    "l = int(input(\"Enter the number : \"))\n",
    "for i in range(1,l+1):\n",
    "    for j in range(i,0,-1):\n",
    "        print(j, end=\" \")\n",
    "    print()"
   ]
  },
  {
   "cell_type": "raw",
   "id": "f881e262",
   "metadata": {},
   "source": [
    "Problem 5: Write a Python Program to Find the Sum of the Series till the nth term:\n",
    "1 + x^2/2 + x^3/3 + … x^n/n\n",
    "n will be provided by the user\n"
   ]
  },
  {
   "cell_type": "code",
   "execution_count": 48,
   "id": "eb41feca",
   "metadata": {},
   "outputs": [
    {
     "name": "stdout",
     "output_type": "stream",
     "text": [
      "Enter the value of x : 2\n",
      "enter the value of n : 4\n",
      "\n",
      "1 + x^2/2 x^3/3 x^4/4 \n",
      "\n",
      "9.666666666666666\n"
     ]
    }
   ],
   "source": [
    "x = int(input(\"Enter the value of x : \"))\n",
    "\n",
    "n = int(input(\"enter the value of n : \"))\n",
    "print()\n",
    "sum = 1\n",
    "s = ''\n",
    "print('1 + ', end='')\n",
    "for i in range(2,n+1):\n",
    "    sum = sum + x**i/i\n",
    "    \n",
    "    s = s + 'x^{}/{} '.format(i,i)\n",
    "\n",
    "print(s)\n",
    "print()\n",
    "print(sum)"
   ]
  },
  {
   "cell_type": "raw",
   "id": "b8ef8d93",
   "metadata": {},
   "source": [
    "*Problem 6: The natural logarithm can be approximated by the following series.\n",
    "    \n",
    "If x is input through the keyboard, write a program to calculate the sum of the first seven terms of this series\n"
   ]
  },
  {
   "cell_type": "raw",
   "id": "fec944d2",
   "metadata": {},
   "source": []
  },
  {
   "cell_type": "code",
   "execution_count": 49,
   "id": "def37e89",
   "metadata": {},
   "outputs": [
    {
     "name": "stdout",
     "output_type": "stream",
     "text": [
      "(1/1)*((x-1)/x)^1 +(1/2)*((x-1)/x)^2 +(1/3)*((x-1)/x)^3 +(1/4)*((x-1)/x)^4 +(1/5)*((x-1)/x)^5 \n",
      "1.8301230000000004\n"
     ]
    }
   ],
   "source": [
    "x = 10\n",
    "n = 5\n",
    "\n",
    "sum = 0\n",
    "s = ''\n",
    "for i in range(1,n+1):\n",
    "    sum = sum + (1/i)*((x-1)/x)**i\n",
    "    s = s + '(1/{})*((x-1)/x)^{} +'.format(i,i)\n",
    "print(s[:-1])\n",
    "print(sum)"
   ]
  },
  {
   "cell_type": "raw",
   "id": "8797fbe9",
   "metadata": {},
   "source": [
    "Problem 7 - Find the sum of the series upto n terms.\n",
    "Write a program to calculate the sum of series up to n term. For example, if n =5 the series will become 2 + 22 + 222 + 2222 + 22222 = 24690. Take the user input and then calculate. And the output style should match which is given in the example.\n",
    "Example 1:\n",
    "Input:\n",
    "5\n",
    "Output:\n",
    "2+22+222+2222+22222\n",
    "Sum of above series is: 24690\n"
   ]
  },
  {
   "cell_type": "code",
   "execution_count": 58,
   "id": "177e5528",
   "metadata": {},
   "outputs": [
    {
     "name": "stdout",
     "output_type": "stream",
     "text": [
      "Enter the number of terms : 5\n",
      "2+22+222+2222+22222\n",
      "24690\n"
     ]
    }
   ],
   "source": [
    "n = int(input(\"Enter the number of terms : \"))\n",
    "\n",
    "start = 2\n",
    "sum = 0\n",
    "\n",
    "for i in range(0,n):\n",
    "    if i < n-1:\n",
    "        print(start,end='+')\n",
    "    else:\n",
    "        print(start)\n",
    "        \n",
    "    sum =sum + start\n",
    "    start = start*10 + 2\n",
    "print(sum)"
   ]
  },
  {
   "cell_type": "raw",
   "id": "3de16828",
   "metadata": {},
   "source": [
    "Problem 8: Write a program to print all the unique combinations of 1,2,3 and 4\n",
    "Output:\n",
    "1 2 3 4\n",
    "1 2 4 3\n",
    "1 3 2 4\n",
    "1 3 4 2\n",
    "1 4 2 3\n",
    "1 4 3 2\n",
    "2 1 3 4\n",
    "2 1 4 3\n",
    "2 3 1 4\n",
    "2 3 4 1\n",
    "2 4 1 3\n",
    ".\n",
    ".\n",
    "and so on\n"
   ]
  },
  {
   "cell_type": "code",
   "execution_count": 1,
   "id": "887f2104",
   "metadata": {},
   "outputs": [
    {
     "name": "stdout",
     "output_type": "stream",
     "text": [
      "1 2 3 4\n",
      "1 2 4 3\n",
      "1 3 2 4\n",
      "1 3 4 2\n",
      "1 4 2 3\n",
      "1 4 3 2\n",
      "2 1 3 4\n",
      "2 1 4 3\n",
      "2 3 1 4\n",
      "2 3 4 1\n",
      "2 4 1 3\n",
      "2 4 3 1\n",
      "3 1 2 4\n",
      "3 1 4 2\n",
      "3 2 1 4\n",
      "3 2 4 1\n",
      "3 4 1 2\n",
      "3 4 2 1\n",
      "4 1 2 3\n",
      "4 1 3 2\n",
      "4 2 1 3\n",
      "4 2 3 1\n",
      "4 3 1 2\n",
      "4 3 2 1\n"
     ]
    }
   ],
   "source": [
    "for i in range(1,5):\n",
    "    for j in range(1,5):\n",
    "        for k in range(1,5):\n",
    "            for m in range(1,5):\n",
    "                if (i!=j and j!=k and k!=m and i!=k and i!=m and j!=m):\n",
    "                    print(i,j,k,m)"
   ]
  },
  {
   "cell_type": "raw",
   "id": "4ab8f60b",
   "metadata": {},
   "source": [
    "Problem 9: Write a program that will take a decimal number as input and prints out the binary equivalent of the number"
   ]
  },
  {
   "cell_type": "code",
   "execution_count": 6,
   "id": "f2b9dff5",
   "metadata": {},
   "outputs": [
    {
     "name": "stdout",
     "output_type": "stream",
     "text": [
      "enter the decimal number : 10\n",
      "1010"
     ]
    }
   ],
   "source": [
    "decimal_number= int(input(\"enter the decimal number : \"))\n",
    "\n",
    "binary = []\n",
    "\n",
    "while decimal_number > 0:\n",
    "    \n",
    "    binary.append(decimal_number%2)\n",
    "    decimal_number = decimal_number//2\n",
    "    \n",
    "for i in binary[::-1]:\n",
    "    print(i, end='')"
   ]
  },
  {
   "cell_type": "raw",
   "id": "52c8cd9c",
   "metadata": {},
   "source": [
    "Problem 10: Write a program that will take 2 numbers as input and prints the LCM and HCF of those 2 numbers"
   ]
  },
  {
   "cell_type": "code",
   "execution_count": null,
   "id": "d8fc301b",
   "metadata": {},
   "outputs": [],
   "source": []
  },
  {
   "cell_type": "raw",
   "id": "84d21e72",
   "metadata": {},
   "source": [
    "Problem 11: Create Short Form from initial character\n",
    "Given a string create short form ofthe string from Initial character. Short form should be capitalised.\n",
    "Example:\n",
    "Input:\n",
    "Data science mentorship program\n",
    "Output:\n",
    "DSMP\n"
   ]
  },
  {
   "cell_type": "code",
   "execution_count": 8,
   "id": "267dd782",
   "metadata": {},
   "outputs": [
    {
     "name": "stdout",
     "output_type": "stream",
     "text": [
      "enter the string : data science mentorship program\n",
      "DSMP\n"
     ]
    }
   ],
   "source": [
    "sent = input(\"enter the string : \")\n",
    "\n",
    "res = ''\n",
    "\n",
    "for i in sent.split():\n",
    "    res = res + i[0].upper()\n",
    "    \n",
    "print(res)"
   ]
  },
  {
   "cell_type": "raw",
   "id": "f3095bf9",
   "metadata": {},
   "source": [
    "Problem 12: Append second string in the middle of first string\n",
    "Input:\n",
    "campusx\n",
    "data\n",
    "Output:\n",
    "camdatapusx\n"
   ]
  },
  {
   "cell_type": "code",
   "execution_count": 9,
   "id": "ecf061cc",
   "metadata": {},
   "outputs": [
    {
     "name": "stdout",
     "output_type": "stream",
     "text": [
      "enter the 1st stringhellohello\n",
      "enter the 2nd stringhitesh\n",
      "hellohiteshhello\n"
     ]
    }
   ],
   "source": [
    "s1 = input('enter the 1st string : ')\n",
    "s2 = input('enter the 2nd string : ')\n",
    "\n",
    "print(s1[0:int(len(s1)/2)] + s2 + s1[int(len(s1)/2):])"
   ]
  },
  {
   "cell_type": "raw",
   "id": "735822c5",
   "metadata": {},
   "source": [
    "Problem 13:Given string contains a combination of the lower and upper case letters. Write a program to arrange the characters of a string so that all lowercase letters should come first.\n",
    "Given:\n",
    "str1 = PyNaTive\n",
    "Expected Output:\n",
    "yaivePNT\n"
   ]
  },
  {
   "cell_type": "code",
   "execution_count": 10,
   "id": "4274119d",
   "metadata": {},
   "outputs": [
    {
     "name": "stdout",
     "output_type": "stream",
     "text": [
      "enter the string : mjdshfkaKJlksdfLKWDLBLDS\n",
      "mjdshfkalksdfKJLKWDLBLDS\n"
     ]
    }
   ],
   "source": [
    "s3 = input('enter the string : ')\n",
    "\n",
    "upper = ''\n",
    "lower = ''\n",
    "\n",
    "for i in s3:\n",
    "    if i.islower():\n",
    "        lower = lower + i\n",
    "    else:\n",
    "        upper = upper + i\n",
    "        \n",
    "print(lower + upper)"
   ]
  },
  {
   "cell_type": "raw",
   "id": "7873b3a6",
   "metadata": {},
   "source": [
    "Problem 14:Take a alphanumeric string input and print the sum and average of the digits that appear in the string, ignoring all other characters.\n",
    "Input:\n",
    "hel123O4every093\n",
    "Output:\n",
    "Sum: 22\n",
    "Avg: 2.75\n"
   ]
  },
  {
   "cell_type": "code",
   "execution_count": null,
   "id": "464a7189",
   "metadata": {},
   "outputs": [],
   "source": []
  },
  {
   "cell_type": "raw",
   "id": "9a4a0d9c",
   "metadata": {},
   "source": [
    "Problem 15: Removal of all characters from a string except integers\n",
    "Given:\n",
    "str1 = 'I am 25 years and 10 months old'\n",
    "Expected Output:\n",
    "2510\n"
   ]
  },
  {
   "cell_type": "code",
   "execution_count": null,
   "id": "dfa3ff9d",
   "metadata": {},
   "outputs": [],
   "source": []
  },
  {
   "cell_type": "raw",
   "id": "f82b0ca0",
   "metadata": {},
   "source": [
    "Problem 16: Check whether the string is Symmetrical.\n",
    "Statement: Given a string. the task is to check if the string is symmetrical or not. A string is said to be symmetrical if both the halves of the string are the same.\n",
    "Example 1:\n",
    "Input\n",
    "khokho\n",
    "Output\n",
    "The entered string is symmetrical\n"
   ]
  },
  {
   "cell_type": "code",
   "execution_count": null,
   "id": "8de43712",
   "metadata": {},
   "outputs": [],
   "source": []
  },
  {
   "cell_type": "raw",
   "id": "e46e8577",
   "metadata": {},
   "source": [
    "Problem 17: Reverse words in a given String\n",
    "Statement: We are given a string and we need to reverse words of a given string.\n",
    "Example 1:\n",
    "Input:\n",
    "geeks quiz practice code\n",
    "Output:\n",
    "code practice quiz geeks\n",
    "Example 2:\n",
    "Input:\n",
    "my name is laxmi\n",
    "Output:\n",
    "laxmi is name my\n"
   ]
  },
  {
   "cell_type": "code",
   "execution_count": null,
   "id": "39216e4c",
   "metadata": {},
   "outputs": [],
   "source": []
  },
  {
   "cell_type": "raw",
   "id": "fcc83457",
   "metadata": {},
   "source": [
    "Problem 18: Find uncommon words from two Strings.\n",
    "Statement: Given two sentences as strings A and B. The task is to return a list of all uncommon words. A word is uncommon if it appears exactly once in any one of the sentences, and does not appear in the other sentence. Note: A sentence is a string of space-separated words. Each word consists only of lowercase letters.\n",
    "Example 1:\n",
    "Input:\n",
    "A = \"apple banana mango\" \n",
    "B = \"banana fruits mango\"\n",
    "Output:\n",
    "['apple', 'fruits']\n"
   ]
  },
  {
   "cell_type": "code",
   "execution_count": null,
   "id": "102320f8",
   "metadata": {},
   "outputs": [],
   "source": []
  },
  {
   "cell_type": "raw",
   "id": "ce93b5fd",
   "metadata": {},
   "source": [
    "Problem 19: Word location in String.\n",
    "Statement: Find a location of a word in a given sentence.\n",
    "Example 1:\n",
    "Input:\n",
    "Sentence: We can learn data science through campusx mentorship program.\n",
    "\n",
    "word: campusx\n",
    "Output:\n",
    "Location of the word is 7.\n",
    "Note- Don't use index/find functions\n"
   ]
  },
  {
   "cell_type": "code",
   "execution_count": null,
   "id": "79231b0d",
   "metadata": {},
   "outputs": [],
   "source": []
  },
  {
   "cell_type": "raw",
   "id": "b8ff826a",
   "metadata": {},
   "source": [
    "Problem 20: Write a program that can remove all the duplicate characters from a string. User will provide the input"
   ]
  },
  {
   "cell_type": "code",
   "execution_count": null,
   "id": "5e1edb0f",
   "metadata": {},
   "outputs": [],
   "source": []
  }
 ],
 "metadata": {
  "kernelspec": {
   "display_name": "Python 3 (ipykernel)",
   "language": "python",
   "name": "python3"
  },
  "language_info": {
   "codemirror_mode": {
    "name": "ipython",
    "version": 3
   },
   "file_extension": ".py",
   "mimetype": "text/x-python",
   "name": "python",
   "nbconvert_exporter": "python",
   "pygments_lexer": "ipython3",
   "version": "3.9.12"
  }
 },
 "nbformat": 4,
 "nbformat_minor": 5
}
