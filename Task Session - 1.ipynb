{
 "cells": [
  {
   "cell_type": "markdown",
   "id": "48827ff3",
   "metadata": {},
   "source": [
    "# Task Session - 1"
   ]
  },
  {
   "cell_type": "code",
   "execution_count": 1,
   "id": "7a663d91",
   "metadata": {},
   "outputs": [],
   "source": [
    "# Q1: - Print the given strings as per stated format.\n",
    "# Given strings:\n",
    "# \"Data\" \"Science\" \"Mentorship\" \"Program\" \n",
    "# \"By\" \"CampusX\"\n",
    "# Output:\n",
    "# Data-Science-Mentorship-Program-started-By-CampusX\n",
    "# Concept- [Seperator and End]\n"
   ]
  },
  {
   "cell_type": "code",
   "execution_count": 6,
   "id": "b4af4a8d",
   "metadata": {},
   "outputs": [
    {
     "name": "stdout",
     "output_type": "stream",
     "text": [
      "Data-Science-Mentorship-Program-started-By-CampusX\n"
     ]
    }
   ],
   "source": [
    "print(\"Data\",\"Science\",\"Mentorship\",\"Program\", sep = '-', end = '-started-')\n",
    "print(\"By\",\"CampusX\", sep = '-')"
   ]
  },
  {
   "cell_type": "code",
   "execution_count": 7,
   "id": "bf250dcb",
   "metadata": {},
   "outputs": [],
   "source": [
    "# Q2:- Write a program that will convert celsius value to fahrenheit."
   ]
  },
  {
   "cell_type": "code",
   "execution_count": 10,
   "id": "9aabf407",
   "metadata": {},
   "outputs": [
    {
     "name": "stdout",
     "output_type": "stream",
     "text": [
      "Enter cencius value to change into fahrenheit : 37\n",
      "98.60000000000001\n"
     ]
    }
   ],
   "source": [
    "celcius = float(input(\"Enter cencius value to change into fahrenheit : \"))\n",
    "\n",
    "faren = celcius * (9/5) + 32\n",
    "\n",
    "print(faren)"
   ]
  },
  {
   "cell_type": "code",
   "execution_count": 11,
   "id": "0ced1a50",
   "metadata": {},
   "outputs": [],
   "source": [
    "# Q3:- Take 2 numbers as input from the user.Write a program to swap the numbers without using any special python syntax."
   ]
  },
  {
   "cell_type": "code",
   "execution_count": 12,
   "id": "42fc7aab",
   "metadata": {},
   "outputs": [
    {
     "name": "stdout",
     "output_type": "stream",
     "text": [
      "Enter first number : 2\n",
      "Enter second number : 3\n",
      "3\n",
      "2\n"
     ]
    }
   ],
   "source": [
    "num1 = int(input('Enter first number : '))\n",
    "num2 = int(input('Enter second number : '))\n",
    "\n",
    "temp = num1\n",
    "num1 = num2\n",
    "num2 = temp\n",
    "\n",
    "print(num1)\n",
    "print(num2)"
   ]
  },
  {
   "cell_type": "code",
   "execution_count": 13,
   "id": "3955a15a",
   "metadata": {},
   "outputs": [],
   "source": [
    "# Q4:- Write a program to find the euclidean distance between two coordinates.Take both the coordinates from the user as input."
   ]
  },
  {
   "cell_type": "code",
   "execution_count": 23,
   "id": "91abe7f3",
   "metadata": {},
   "outputs": [
    {
     "name": "stdout",
     "output_type": "stream",
     "text": [
      "enter x coordinate of point_1 : 34\n",
      "enter y coordinate of point_1 : 45\n",
      "\n",
      "enter x coordinate of point_1 : 78\n",
      "enter y coordinate of point_1 : 67\n",
      "distance between two points :  49.19\n"
     ]
    }
   ],
   "source": [
    "p1_x = int(input('enter x coordinate of point_1 : '))\n",
    "p1_y = int(input('enter y coordinate of point_1 : '))\n",
    "print()\n",
    "p2_x = int(input('enter x coordinate of point_1 : '))\n",
    "p2_y = int(input('enter y coordinate of point_1 : '))\n",
    "\n",
    "distance = ((p2_x - p1_x)**2 + (p2_y - p1_y)**2)**0.5\n",
    "\n",
    "print('distance between two points : ',  round(distance,2))"
   ]
  },
  {
   "cell_type": "code",
   "execution_count": 24,
   "id": "c92a3239",
   "metadata": {},
   "outputs": [],
   "source": [
    "# Q5:- Write a program to find the simple interest when the value of principle,rate of interest and time period is provided by the user."
   ]
  },
  {
   "cell_type": "code",
   "execution_count": 25,
   "id": "05b02a8f",
   "metadata": {},
   "outputs": [
    {
     "name": "stdout",
     "output_type": "stream",
     "text": [
      "enter amount2000\n",
      "enter rate10\n",
      "enter time2\n",
      "400.0\n"
     ]
    }
   ],
   "source": [
    "# prt/100\n",
    "\n",
    "p = int(input('enter amount'))\n",
    "r = int(input('enter rate'))\n",
    "t = int(input('enter time'))\n",
    "\n",
    "si = (p*r*t)/100\n",
    "\n",
    "print(si)"
   ]
  },
  {
   "cell_type": "code",
   "execution_count": 26,
   "id": "db78d0ff",
   "metadata": {},
   "outputs": [],
   "source": [
    "# Q6:- Write a program that will tell the number of dogs and chicken are there when the user will provide the value of total heads and legs.\n",
    "# For example: Input: heads -> 4 legs -> 12\n",
    "# Output: dogs -> 2 chicken -> 2\n"
   ]
  },
  {
   "cell_type": "code",
   "execution_count": null,
   "id": "ab4f207d",
   "metadata": {},
   "outputs": [],
   "source": []
  },
  {
   "cell_type": "code",
   "execution_count": 27,
   "id": "62bbf51f",
   "metadata": {},
   "outputs": [],
   "source": [
    "# Q7:- Write a program to find the sum of squares of first n natural numbers where n will be provided by the user."
   ]
  },
  {
   "cell_type": "code",
   "execution_count": 29,
   "id": "5d6c90b3",
   "metadata": {},
   "outputs": [
    {
     "name": "stdout",
     "output_type": "stream",
     "text": [
      "enter the number : 5\n",
      "55.0\n"
     ]
    }
   ],
   "source": [
    "n = int(input('enter the number : '))\n",
    "\n",
    "result = (n*(n+1)*(2*n+1))/6\n",
    "\n",
    "print(result)"
   ]
  },
  {
   "cell_type": "code",
   "execution_count": 30,
   "id": "8069332f",
   "metadata": {},
   "outputs": [],
   "source": [
    "# Q8:- Given the first 2 terms of an Arithmetic Series.Find the Nth term of the series. Assume all inputs are provided by the user."
   ]
  },
  {
   "cell_type": "code",
   "execution_count": 31,
   "id": "2607497e",
   "metadata": {},
   "outputs": [
    {
     "name": "stdout",
     "output_type": "stream",
     "text": [
      "enter first term : 5\n",
      "enter second term : 10\n",
      "Enter the value of nth term : 5\n",
      "25\n"
     ]
    }
   ],
   "source": [
    "# arithmatic progression = a + (n-1)d\n",
    "a = int(input('enter first term : '))\n",
    "b = int(input('enter second term : '))\n",
    "\n",
    "nth_term = int(input(\"Enter the value of nth term : \"))\n",
    "difference = b-a\n",
    "\n",
    "value = a + (nth_term - 1) * difference\n",
    "\n",
    "print(value)"
   ]
  },
  {
   "cell_type": "code",
   "execution_count": 32,
   "id": "bb02a8fe",
   "metadata": {},
   "outputs": [],
   "source": [
    "# Q9:- Given 2 fractions, find the sum of those 2 fractions.Take the numerator and denominator values of the fractions from the user."
   ]
  },
  {
   "cell_type": "code",
   "execution_count": 35,
   "id": "5bdb7d0f",
   "metadata": {},
   "outputs": [
    {
     "name": "stdout",
     "output_type": "stream",
     "text": [
      "num1 : 4\n",
      "den1 : 5\n",
      "num2 : 6\n",
      "den2 : 4\n",
      "46/20\n"
     ]
    }
   ],
   "source": [
    "n1 = int(input('num1 : '))\n",
    "d1 = int(input('den1 : '))\n",
    "n2 = int(input('num2 : '))\n",
    "d2 = int(input('den2 : '))\n",
    "\n",
    "rn = n1*d2 + d1*n2\n",
    "rd = d1*d2\n",
    "\n",
    "print('{}/{}' .format(rn,rd))"
   ]
  },
  {
   "cell_type": "code",
   "execution_count": 36,
   "id": "9382b5ba",
   "metadata": {},
   "outputs": [],
   "source": [
    "# Q10:- Given the height, width and breadth of a milk tank, you have to find out how many glasses of milk can be obtained? Assume all the inputs are provided by the user.\n",
    "# Input:\n",
    "# Dimensions of the milk tank\n",
    "# H = 20cm, L = 20cm, B = 20cm\n",
    "\n",
    "# Dimensions of the glass\n",
    "# h = 3cm, r = 1cm\n"
   ]
  },
  {
   "cell_type": "code",
   "execution_count": 39,
   "id": "3538263e",
   "metadata": {},
   "outputs": [
    {
     "name": "stdout",
     "output_type": "stream",
     "text": [
      "Enter tank height value : 10\n",
      "Enter tank breadth value : 30\n",
      "Enter tank length value : 50\n",
      "Enter glass height value : 10\n",
      "Enter glass radius value : 7\n",
      "number of glasses :  9\n"
     ]
    }
   ],
   "source": [
    "import math\n",
    "\n",
    "\n",
    "tank_height = float(input('Enter tank height value : '))\n",
    "tank_breadth = float(input('Enter tank breadth value : '))\n",
    "tank_length = float(input('Enter tank length value : '))\n",
    "\n",
    "glass_height = float(input('Enter glass height value : '))\n",
    "glass_radius = float(input('Enter glass radius value : '))\n",
    "\n",
    "\n",
    "tank_volume = tank_height*tank_breadth*tank_length\n",
    "\n",
    "glass_volume = 3.14*glass_radius*glass_radius*glass_height\n",
    "\n",
    "\n",
    "print(\"number of glasses : \" ,math.floor(tank_volume/glass_volume))"
   ]
  },
  {
   "cell_type": "code",
   "execution_count": null,
   "id": "eb8bfced",
   "metadata": {},
   "outputs": [],
   "source": []
  }
 ],
 "metadata": {
  "kernelspec": {
   "display_name": "Python 3 (ipykernel)",
   "language": "python",
   "name": "python3"
  },
  "language_info": {
   "codemirror_mode": {
    "name": "ipython",
    "version": 3
   },
   "file_extension": ".py",
   "mimetype": "text/x-python",
   "name": "python",
   "nbconvert_exporter": "python",
   "pygments_lexer": "ipython3",
   "version": "3.9.12"
  }
 },
 "nbformat": 4,
 "nbformat_minor": 5
}
